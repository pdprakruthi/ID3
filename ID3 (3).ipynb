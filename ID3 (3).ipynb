{
 "cells": [
  {
   "cell_type": "code",
   "execution_count": 2,
   "id": "af4f5264-c532-44a8-847d-357f32cb4209",
   "metadata": {},
   "outputs": [],
   "source": [
    "\n",
    "import math\n",
    "from collections import Counter\n",
    "\n",
    "def entropy(data):\n",
    "    labels = [row[-1] for row in data]\n",
    "    label_counts = Counter(labels)\n",
    "    total = len(labels)\n",
    "    return -sum((count / total) * math.log2(count / total) for count in label_counts.values())\n"
   ]
  },
  {
   "cell_type": "code",
   "execution_count": 3,
   "id": "d6110f3f-4f8b-4b6b-b43d-e59a49dd8b76",
   "metadata": {},
   "outputs": [],
   "source": [
    "def split_dataset(data, feature_index, value):\n",
    "    return [row[:feature_index] + row[feature_index+1:] for row in data if row[feature_index] == value]\n"
   ]
  },
  {
   "cell_type": "code",
   "execution_count": 4,
   "id": "cdc11c51-9c3d-4755-8be2-ddf675ee4428",
   "metadata": {},
   "outputs": [],
   "source": [
    "def info_gain(data, feature_index):\n",
    "    base_entropy = entropy(data)\n",
    "    values = set(row[feature_index] for row in data)\n",
    "    total = len(data)\n",
    "    \n",
    "    weighted_entropy = 0\n",
    "    for value in values:\n",
    "        subset = [row for row in data if row[feature_index] == value]\n",
    "        prob = len(subset) / total\n",
    "        weighted_entropy += prob * entropy(subset)\n",
    "    \n",
    "    return base_entropy - weighted_entropy\n",
    "\n"
   ]
  },
  {
   "cell_type": "code",
   "execution_count": 5,
   "id": "2902394f-b4f6-47e8-8ef3-06101649438f",
   "metadata": {},
   "outputs": [],
   "source": [
    "def best_feature(data):\n",
    "    num_features = len(data[0]) - 1\n",
    "    best_index = 0\n",
    "    best_gain = 0\n",
    "    for i in range(num_features):\n",
    "        gain = info_gain(data, i)\n",
    "        if gain > best_gain:\n",
    "            best_gain = gain\n",
    "            best_index = i\n",
    "    return best_index\n",
    "\n",
    "\n",
    "\n",
    "\n"
   ]
  },
  {
   "cell_type": "code",
   "execution_count": 6,
   "id": "8bef7fb6-33ad-48d1-8f2f-49f2f4cf78a4",
   "metadata": {},
   "outputs": [],
   "source": [
    "def majority_class(data):\n",
    "    labels = [row[-1] for row in data]\n",
    "    return Counter(labels).most_common(1)[0][0]\n",
    "\n",
    "def id3(data, features):\n",
    "    labels = [row[-1] for row in data]\n",
    "    if labels.count(labels[0]) == len(labels):\n",
    "        return labels[0]\n",
    "    if len(data[0]) == 1:\n",
    "        return majority_class(data)\n",
    "    \n",
    "    best = best_feature(data)\n",
    "    best_feat_name = features[best]\n",
    "    tree = {best_feat_name: {}}\n",
    "    \n",
    "    values = set(row[best] for row in data)\n",
    "    for value in values:\n",
    "        subset = split_dataset(data, best, value)\n",
    "        sub_features = features[:best] + features[best+1:]\n",
    "        subtree = id3(subset, sub_features)\n",
    "        tree[best_feat_name][value] = subtree\n",
    "    return tree\n"
   ]
  },
  {
   "cell_type": "code",
   "execution_count": 7,
   "id": "a8c2679c-db82-429d-97c4-fa31b2c933b6",
   "metadata": {},
   "outputs": [
    {
     "name": "stdout",
     "output_type": "stream",
     "text": [
      "{'Outlook': {'Overcast': 'Yes',\n",
      "             'Rainy': {'Temperature': {'Cool': {'Humidity': {'Normal': 'Yes'}},\n",
      "                                       'Mild': 'Yes'}},\n",
      "             'Sunny': 'No'}}\n"
     ]
    }
   ],
   "source": [
    "# Example dataset\n",
    "dataset = [\n",
    "    ['Sunny', 'Hot', 'High', 'No'],\n",
    "    ['Sunny', 'Hot', 'High', 'No'],\n",
    "    ['Overcast', 'Hot', 'High', 'Yes'],\n",
    "    ['Rainy', 'Mild', 'High', 'Yes'],\n",
    "    ['Rainy', 'Cool', 'Normal', 'Yes'],\n",
    "    ['Rainy', 'Cool', 'Normal', 'No'],\n",
    "    ['Overcast', 'Cool', 'Normal', 'Yes'],\n",
    "    ['Sunny', 'Mild', 'High', 'No'],\n",
    "]\n",
    "\n",
    "features = ['Outlook', 'Temperature', 'Humidity']\n",
    "\n",
    "tree = id3(dataset, features)\n",
    "from pprint import pprint\n",
    "pprint(tree)\n"
   ]
  },
  {
   "cell_type": "code",
   "execution_count": null,
   "id": "6a562358-b665-4f91-997f-0477098e1e06",
   "metadata": {},
   "outputs": [],
   "source": []
  }
 ],
 "metadata": {
  "kernelspec": {
   "display_name": "Python 3 (ipykernel)",
   "language": "python",
   "name": "python3"
  },
  "language_info": {
   "codemirror_mode": {
    "name": "ipython",
    "version": 3
   },
   "file_extension": ".py",
   "mimetype": "text/x-python",
   "name": "python",
   "nbconvert_exporter": "python",
   "pygments_lexer": "ipython3",
   "version": "3.12.4"
  }
 },
 "nbformat": 4,
 "nbformat_minor": 5
}
